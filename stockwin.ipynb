{
 "cells": [
  {
   "cell_type": "code",
   "execution_count": null,
   "metadata": {
    "collapsed": true,
    "deletable": true,
    "editable": true
   },
   "outputs": [],
   "source": []
  },
  {
   "cell_type": "code",
   "execution_count": null,
   "metadata": {
    "collapsed": false,
    "deletable": true,
    "editable": true
   },
   "outputs": [],
   "source": [
    "import csv\n",
    "import numpy as np\n",
    "from sklearn.svm import SVR\n",
    "import matplotlib.pyplot as plt\n",
    "\n",
    "dates=[]\n",
    "prices=[]\n",
    "\n",
    "print ('eeee')\n",
    "def get_data(filename):\n",
    "    with open(filename, 'r') as csvfile:\n",
    "        csvFileReader = csv.reader(csvfile)\n",
    "        \n",
    "        next(csvFileReader)\n",
    "        for row in csvFileReader:\n",
    "            dates.append(int(row[0].split('-')[0]))\n",
    "            prices.append(float(row[1]))\n",
    "    return\n",
    "\n",
    "def predictPrices(dates, prices, x):\n",
    "    dates = np.reshape(dates, (len(dates),1))\n",
    "    svr_len = SVR(kernel= 'linear', C=1e3)\n",
    "    svr_poly = SVR(kernel= 'poly', C=1e3, degree=2)\n",
    "    svr_rbf = SVR(kernel= 'rbf', C=1e3, gamma=0.1)\n",
    "    svr_len.fit(dates, prices)\n",
    "    svr_poly.fit(dates, prices)\n",
    "    svr_rbf.fit(dates,prices)\n",
    "    \n",
    "    plt.scatter(dates, prices, color=\"black\", label=\"data\")\n",
    "    plt.plot(dates, svr_len.predict(dates), color=\"red\", label=\"len\")\n",
    "    plt.plot(dates, svr_poly.predict(dates), color=\"blue\", label=\"poly\")\n",
    "    plt.plot(dates, svr_rbf.predict(dates), color=\"green\", label=\"rbf\")\n",
    "    plt.xlabel(\"dates\")\n",
    "    plt.ylabel(\"prices\")\n",
    "    plt.title(\"stock price prediction\")\n",
    "    plt.legend()\n",
    "    plt.show()\n",
    "    \n",
    "    return svr_len.predict(x)[0], svr_poly.predict(x)[0], svr_rbf.predict(x)[0]\n",
    "    \n",
    "print('0000')                                   \n",
    "get_data(\"./datasets/stock/gdxj.csv\")\n",
    "print('1111')\n",
    "predictPrices(dates, prices, 29)\n",
    "\n",
    "                                    \n",
    "        "
   ]
  },
  {
   "cell_type": "code",
   "execution_count": null,
   "metadata": {
    "collapsed": true,
    "deletable": true,
    "editable": true
   },
   "outputs": [],
   "source": []
  },
  {
   "cell_type": "code",
   "execution_count": null,
   "metadata": {
    "collapsed": true,
    "deletable": true,
    "editable": true
   },
   "outputs": [],
   "source": []
  }
 ],
 "metadata": {
  "kernelspec": {
   "display_name": "Python 3",
   "language": "python",
   "name": "python3"
  },
  "language_info": {
   "codemirror_mode": {
    "name": "ipython",
    "version": 3
   },
   "file_extension": ".py",
   "mimetype": "text/x-python",
   "name": "python",
   "nbconvert_exporter": "python",
   "pygments_lexer": "ipython3",
   "version": "3.5.2"
  }
 },
 "nbformat": 4,
 "nbformat_minor": 2
}
